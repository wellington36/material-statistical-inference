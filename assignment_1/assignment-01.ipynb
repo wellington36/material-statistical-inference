{
 "cells": [
  {
   "cell_type": "markdown",
   "metadata": {},
   "source": [
    "## Links uteis:\n",
    "\n",
    "- https://www.youtube.com/watch?v=2M9VO_52NpQ (uma aula menosprezada)\n",
    "- https://www.real-statistics.com/bayesian-statistics/bayesian-statistics-normal-data (pode ter algo)\n",
    "- https://github.com/lucasmoschen/ta-sessions/blob/master/Statistical_Inference/notebooks/BayesianAnalysisNormal.ipynb (do moschen)\n",
    "- https://www.cs.ubc.ca/~murphyk/Papers/bayesGauss.pdf (util Kevin P.)"
   ]
  },
  {
   "cell_type": "markdown",
   "metadata": {},
   "source": [
    "### TODO\n",
    "\n",
    "- olhar melhor: https://scholar.google.com/scholar?hl=pt-BR&as_sdt=0%2C5&q=Bayesian+Analysis&btnG="
   ]
  }
 ],
 "metadata": {
  "language_info": {
   "name": "python"
  },
  "orig_nbformat": 4
 },
 "nbformat": 4,
 "nbformat_minor": 2
}
