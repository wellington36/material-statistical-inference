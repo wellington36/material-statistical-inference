{
 "cells": [
  {
   "cell_type": "markdown",
   "metadata": {},
   "source": [
    "## Links uteis:\n",
    "\n",
    "- https://www.youtube.com/watch?v=2M9VO_52NpQ (uma aula menosprezada)\n",
    "- https://www.real-statistics.com/bayesian-statistics/bayesian-statistics-normal-data (pode ter algo)\n",
    "- https://github.com/lucasmoschen/ta-sessions/blob/master/Statistical_Inference/notebooks/BayesianAnalysisNormal.ipynb (do moschen)\n",
    "- https://www.cs.ubc.ca/~murphyk/Papers/bayesGauss.pdf (util Kevin P.)"
   ]
  },
  {
   "cell_type": "markdown",
   "metadata": {},
   "source": [
    "### TODO\n",
    "\n",
    "- olhar melhor: https://scholar.google.com/scholar?hl=pt-BR&as_sdt=0%2C5&q=Bayesian+Analysis&btnG=\n",
    "- ver: https://www.youtube.com/watch?v=CTKIa8V4-6g\n",
    "- ver: https://www.youtube.com/watch?v=TK8gsF3YSws"
   ]
  },
  {
   "cell_type": "code",
   "execution_count": 4,
   "metadata": {},
   "outputs": [],
   "source": [
    "import math\n",
    "import random\n",
    "import numpy as np\n",
    "import pandas as pd\n",
    "import seaborn as sns\n",
    "import scipy.stats as stats\n",
    "import matplotlib.pyplot as plt"
   ]
  },
  {
   "cell_type": "markdown",
   "metadata": {},
   "source": [
    "## Problema 1\n",
    "\n",
    "Escreva a distribuição conjunta condicional dos dados sob a nova parametrização;"
   ]
  },
  {
   "cell_type": "markdown",
   "metadata": {},
   "source": [
    "**Solução:**\n",
    "\n",
    "Sabemos que a distribuição da Normal é da forma\n",
    "\n",
    "$$\n",
    "    f(X; \\mu, \\sigma) = \\frac{1}{\\sigma \\sqrt{2 \\pi}} e^{-\\frac{1}{2 \\sigma^2}(X - \\mu)}\n",
    "$$\n",
    "\n",
    "definindo $\\tau := 1/\\sigma^2 \\Rightarrow \\sigma = 1/\\sqrt{\\tau}$, podemos reescrever a $Normal_2$ como sendo\n",
    "\n",
    "$$\n",
    "    f(X; \\mu, \\tau) = \\sqrt{\\frac{\\tau}{2 \\pi}} e^{- \\frac{\\tau}{2} (X - \\mu)^2}\n",
    "$$\n",
    "\n",
    "Assim a distribuição conjunta condicional das variaveis $X_1, \\ldots, X_n$ é\n",
    "\n",
    "$$\n",
    "    \\begin{align*}\n",
    "        f(X_1, \\ldots, X_n \\mid \\mu, \\tau) &= \\prod_i f(X_i \\mid \\mu, \\tau) \\\\\n",
    "        &= \\prod_i \\sqrt{\\frac{\\tau}{2 \\pi}} e^{- \\frac{\\tau}{2} (X_i - \\mu)^2} \\\\\n",
    "        &= \\tau^{\\frac{n}{2}} (2 \\pi)^{- \\frac{n}{2}} e^{- \\tau \\frac{\\sum_i (X_i - \\mu)^2}{2}} \\\\\n",
    "        &= \\tau^{\\frac{n}{2}} (2 \\pi)^{- \\frac{n}{2}} e^{- \\frac{\\tau}{2} \\left[ n(\\mu - \\overline{X})^2 + \\sum_{i = 1}^n (X_i - \\overline{X})^2 \\right]}\n",
    "    \\end{align*}\n",
    "$$\n",
    "\n",
    "Note que, quanto maior o parametro $\\tau$ mais \"*precisos*\" os dados são, observe o seguinte exemplo:"
   ]
  },
  {
   "cell_type": "code",
   "execution_count": 2,
   "metadata": {},
   "outputs": [
    {
     "data": {
      "text/plain": [
       "<matplotlib.legend.Legend at 0x7f6b0e81b730>"
      ]
     },
     "execution_count": 2,
     "metadata": {},
     "output_type": "execute_result"
    },
    {
     "data": {
      "image/png": "[encoded data removed]",
      "text/plain": [
       "<Figure size 432x288 with 1 Axes>"
      ]
     },
     "metadata": {
      "needs_background": "light"
     },
     "output_type": "display_data"
    }
   ],
   "source": [
    "#x-axis ranges from -5 and 5 with .01 steps\n",
    "x = np.arange(-5, 5, 0.01)\n",
    "\n",
    "#define multiple normal distributions\n",
    "plt.plot(x, stats.norm.pdf(x, 0, 0.5), label='σ: 0.5, τ: 4')\n",
    "plt.plot(x, stats.norm.pdf(x, 0, 1), label='σ: 1, τ: 1')\n",
    "plt.plot(x, stats.norm.pdf(x, 0, 2), label='σ: 2, τ: 0.25')\n",
    "\n",
    "#add legend to plot\n",
    "plt.legend()"
   ]
  },
  {
   "cell_type": "markdown",
   "metadata": {},
   "source": [
    "## Problema 2\n",
    "\n",
    "A partir da densidade do item anterior, deduza que a distribuição *a priori* conjunta para $\\phi = (\\mu, \\tau)$ é da forma:\n",
    "\n",
    "$$\n",
    " \\begin{align}\n",
    "  \\tau &\\sim \\operatorname{Gama}(\\alpha_0, \\beta_0),\\\\\n",
    "  \\mu \\mid \\tau &\\sim \\operatorname{Normal_2}(m_0, \\lambda_0\\tau),\n",
    " \\end{align}\n",
    "$$\n",
    "onde $\\operatorname{Normal_2}$ se refere à distribuição normal parametrizada como média e precisão."
   ]
  },
  {
   "cell_type": "markdown",
   "metadata": {},
   "source": [
    "**Solução:**\n",
    "\n",
    "De (1) pag. 169 temos o seguinte teorema\n",
    "\n",
    "*Teorema:*\n",
    "\n",
    "Suponha que $X_1, \\ldots, X_n$ é uma amostra aleatoria para uma distribuição normal com média M e precisão R ambos desconhecidos. Suponha que distribuição da priori conjunta de M e R seja a seguinte: A distribuição condicional de M quando $R = r\\ (r > 0)$ é uma *Normal* com media $\\mu$ e precisão $\\tau r$ ($\\mu \\in \\mathbf{R}$ e $\\tau > 0$), e a distribuição marginal de R é uma *Gamma* com parametros $\\alpha_0$ e $\\beta_0$ ($\\alpha_0 > 0$ e $\\beta_0 > 0$). Então a distribuição conjunta de M e R onde $X_i = x_i$ ($i = 1, \\ldots, n$) é a seguinte: distribuição condicional de M quando $R = r$ é uma distribuição normal com média $\\frac{\\tau \\mu + n \\overline{x}}{\\tau + n}$ e precisão $(\\tau + n) r$.\n",
    "\n",
    "REF:\n",
    "- (1) Conjugate Bayesian analysis of the Gaussian distribution\n",
    "- (2) DeGroot - Optimal statistical decisions"
   ]
  },
  {
   "cell_type": "markdown",
   "metadata": {},
   "source": [
    "## Problema 3\n",
    "\n",
    "A partir dos itens anteriores, derive a distribuição *a posteriori* conjunta de $\\mu$ e $\\tau$ e a distribuição condicional de $\\mu$ dado $\\tau$, assim como a distribuição marginal *a posteriori* de $\\tau$."
   ]
  },
  {
   "cell_type": "markdown",
   "metadata": {},
   "source": [
    "**Solução**\n",
    "\n",
    "MAKE THIS"
   ]
  },
  {
   "cell_type": "markdown",
   "metadata": {},
   "source": [
    "### Exemplo\n",
    "\n",
    "Certo dia Paulão"
   ]
  },
  {
   "cell_type": "code",
   "execution_count": 16,
   "metadata": {},
   "outputs": [
    {
     "name": "stdout",
     "output_type": "stream",
     "text": [
      "28.83530860022762\n"
     ]
    }
   ],
   "source": [
    "print(random.normalvariate(30, 5) + random.uniform(-0.5, 0.5))"
   ]
  }
 ],
 "metadata": {
  "interpreter": {
   "hash": "e7370f93d1d0cde622a1f8e1c04877d8463912d04d973331ad4851f04de6915a"
  },
  "kernelspec": {
   "display_name": "Python 3.10.5 64-bit",
   "language": "python",
   "name": "python3"
  },
  "language_info": {
   "codemirror_mode": {
    "name": "ipython",
    "version": 3
   },
   "file_extension": ".py",
   "mimetype": "text/x-python",
   "name": "python",
   "nbconvert_exporter": "python",
   "pygments_lexer": "ipython3",
   "version": "3.10.5"
  },
  "orig_nbformat": 4
 },
 "nbformat": 4,
 "nbformat_minor": 2
}
