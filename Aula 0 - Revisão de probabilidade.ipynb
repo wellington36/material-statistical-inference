{
 "cells": [
  {
   "cell_type": "code",
   "execution_count": 36,
   "id": "f220ab81",
   "metadata": {},
   "outputs": [],
   "source": [
    "import math\n",
    "from scipy.stats import binom"
   ]
  },
  {
   "cell_type": "markdown",
   "id": "ca62dbf3",
   "metadata": {},
   "source": [
    "### Quantas vezes jogar\n",
    "\n",
    "Seja uma moeda justa, quantas vezes ela deve ser lançada (ou seja, qual o valor de n) para que\n",
    "\n",
    "$$P(0.4 \\leq \\bar{X}_n \\leq 0.6) \\geq 0.7$$"
   ]
  },
  {
   "cell_type": "code",
   "execution_count": 37,
   "id": "65c2c530",
   "metadata": {},
   "outputs": [],
   "source": [
    "# Find p by Chebychev\n",
    "\n",
    "def find_p_by_Chebychev(p, theta=0.5, a=0.4):\n",
    "    result = math.ceil(1 / (4 * (1 - p) * (a - theta)**2))\n",
    "    \n",
    "    return result"
   ]
  },
  {
   "cell_type": "code",
   "execution_count": 38,
   "id": "c07d9946",
   "metadata": {},
   "outputs": [],
   "source": [
    "# Find p by cdf diference\n",
    "\n",
    "def find_p_by_cdf(n: int, a: float, b: float, theta: float) -> float:\n",
    "    # F(final) - F(initial)\n",
    "    prob = binom.cdf(k = round(b * n), n=n, p=theta) - binom.cdf(k = round(a * n)-1, n=n, p=theta)\n",
    "    \n",
    "    return prob"
   ]
  },
  {
   "cell_type": "code",
   "execution_count": 39,
   "id": "7d272f49",
   "metadata": {},
   "outputs": [
    {
     "data": {
      "text/plain": [
       "84"
      ]
     },
     "execution_count": 39,
     "metadata": {},
     "output_type": "execute_result"
    }
   ],
   "source": [
    "# With Chebychev\n",
    "\n",
    "find_p_by_Chebychev(0.7, theta=0.5, a=0.4)"
   ]
  },
  {
   "cell_type": "code",
   "execution_count": 40,
   "id": "3532fa60",
   "metadata": {},
   "outputs": [
    {
     "name": "stdout",
     "output_type": "stream",
     "text": [
      "n: 84, p: 0.9370277429638303\n"
     ]
    }
   ],
   "source": [
    "print(f\"n: {84}, p: {find_p(84, 0.4, 0.6, 0.5)}\")"
   ]
  },
  {
   "cell_type": "markdown",
   "id": "177c0dbc",
   "metadata": {},
   "source": [
    "Vamos resolver pela forma geral:\n",
    "\n",
    "$$P(a \\leq \\bar{X}_n \\leq b) \\geq target$$"
   ]
  },
  {
   "cell_type": "code",
   "execution_count": 41,
   "id": "e3902aac",
   "metadata": {},
   "outputs": [
    {
     "name": "stdout",
     "output_type": "stream",
     "text": [
      "n: 1 p: 1.0\n",
      "n: 2 p: 0.5\n",
      "n: 3 p: 0.75\n",
      "n: 4 p: 0.375\n",
      "n: 5 p: 0.625\n",
      "n: 6 p: 0.78125\n",
      "n: 7 p: 0.546875\n",
      "n: 8 p: 0.7109375\n",
      "n: 9 p: 0.4921875\n",
      "n: 10 p: 0.65625\n",
      "n: 11 p: 0.7734375\n",
      "n: 12 p: 0.6123046875\n",
      "n: 13 p: 0.733154296875\n",
      "n: 14 p: 0.5760498046875\n",
      "n: 15 p: 0.6982421875\n"
     ]
    }
   ],
   "source": [
    "n = 0\n",
    "a = 0.4\n",
    "b = 0.6\n",
    "theta = 0.5\n",
    "target = 0.7\n",
    "\n",
    "p = find_p(n, a, b, theta)\n",
    "erro = (p - target)**2\n",
    "\n",
    "while (erro > 0.0001):\n",
    "    n+=1\n",
    "    p = find_p(n, a, b, theta)\n",
    "    erro = (p - target)**2\n",
    "    \n",
    "    print(f\"n: {n} p: {p}\")"
   ]
  },
  {
   "cell_type": "markdown",
   "id": "8a8973a6",
   "metadata": {},
   "source": [
    "### Conclusão\n",
    "\n",
    "O Chebychev distancia muito do resultado real pra 70%."
   ]
  }
 ],
 "metadata": {
  "kernelspec": {
   "display_name": "Python 3 (ipykernel)",
   "language": "python",
   "name": "python3"
  },
  "language_info": {
   "codemirror_mode": {
    "name": "ipython",
    "version": 3
   },
   "file_extension": ".py",
   "mimetype": "text/x-python",
   "name": "python",
   "nbconvert_exporter": "python",
   "pygments_lexer": "ipython3",
   "version": "3.10.5"
  }
 },
 "nbformat": 4,
 "nbformat_minor": 5
}
