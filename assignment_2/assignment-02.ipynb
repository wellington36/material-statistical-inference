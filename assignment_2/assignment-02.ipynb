{
 "cells": [
  {
   "cell_type": "code",
   "execution_count": 124,
   "id": "536e4875",
   "metadata": {},
   "outputs": [],
   "source": [
    "import numpy as np\n",
    "from scipy.stats import bernoulli"
   ]
  },
  {
   "cell_type": "markdown",
   "id": "bd07acbe",
   "metadata": {},
   "source": [
    "# A vingança das moedas\n",
    "\n",
    "Suponha que temos duas moedas, Moeda $1$ e Moeda $2$ de modo que $\\operatorname{Pr}(\\text{Cara} \\mid \\text{Moeda} = 1) = p_1$ e $\\operatorname{Pr}(\\text{Cara} \\mid \\text{Moeda} = 2) = p_2$; \n",
    " Suponha agora que fazemos o seguinte experimento:\n",
    "\n",
    " - (i) Selecionamos uma moeda aleatoriamente com probabilidade $1/2$;\n",
    " - (ii) Lançamos a moeda selecionada $m$ vezes;\n",
    " - (iii) Repetimos (i) e (ii) $n$ vezes.\n",
    "\n",
    "Podemos representar os dados advindos deste experimento como \n",
    "\n",
    "$$\n",
    "\\begin{matrix} \n",
    "    X_{11} & \\ldots & X_{1m} &  & M_1 \\\\ \n",
    "    X_{21} & \\ldots & X_{2m} &  & M_2 \\\\\n",
    "    \\vdots & \\ldots & \\vdots &  & \\vdots \\\\\n",
    "    X_{n1} & \\ldots & X_{nm} &  & M_n\n",
    "\\end{matrix}\n",
    "$$\n",
    "\n",
    "onde os $X_{ij}$ são variáveis Bernoulli que guardam o resultados do lançamento da moeda  e $M_i \\in \\{ 1, 2\\}$ é a variável aleatória que guarda qual moeda foi selecionada na $i$-ésima rodada do experimento.\n",
    " \n",
    "**Desenvolva:** um esquema EM para obter o EMV para $\\theta = (p_1, p_2)$ quando desconhecemos os valores de $M_i$, isto é, quando não sabemos que moeda foi escolhida em cada uma das $n$ rodadas."
   ]
  },
  {
   "cell_type": "code",
   "execution_count": 128,
   "id": "1211c133",
   "metadata": {
    "scrolled": true
   },
   "outputs": [],
   "source": [
    "n = 1000\n",
    "m = 100\n",
    "\n",
    "p1 = 0.2\n",
    "p2 = 0.9\n",
    "\n",
    "M = []\n",
    "X = []\n",
    "\n",
    "# Write X and M\n",
    "for i in range(n):    \n",
    "    M.append(bernoulli.rvs(1/2) + 1)\n",
    "    \n",
    "    if M[i] == 1:\n",
    "        p = p1\n",
    "    else:\n",
    "        p = p2\n",
    "    \n",
    "    X.append([])\n",
    "    \n",
    "    for j in range(m):\n",
    "        X[i].append(bernoulli.rvs(p))"
   ]
  },
  {
   "cell_type": "code",
   "execution_count": 134,
   "id": "587c5977",
   "metadata": {},
   "outputs": [
    {
     "data": {
      "text/plain": [
       "[(0.4, 0.6),\n",
       " (0.2009330624958368, 0.9013609445301698),\n",
       " (0.20093306288032453, 0.9013609467455621),\n",
       " (0.20093306288032453, 0.9013609467455621)]"
      ]
     },
     "execution_count": 134,
     "metadata": {},
     "output_type": "execute_result"
    }
   ],
   "source": [
    "# Vamos tentar extimar p_1 e p_2 com o valor inicial (0.4, 0.6) para cada por exemplo\n",
    "theta = [(0.4, 0.6)]\n",
    "\n",
    "while (theta[-1] != theta[len(theta)-2]) or len(theta) < 2:\n",
    "    # Find E[M_ik]\n",
    "    p1, p2 = theta[-1]\n",
    "\n",
    "    EM_p1 = []\n",
    "    EM_p2 = []\n",
    "\n",
    "    for i in range(n):\n",
    "        temp_p1 = 1\n",
    "        temp_p2 = 1\n",
    "    \n",
    "        for j in range(m):\n",
    "            temp_p1 *= p1**(X[i][j]) * (1 - p1)**(1 - X[i][j])\n",
    "            temp_p2 *= p2**(X[i][j]) * (1 - p2)**(1 - X[i][j])\n",
    "    \n",
    "        EM_p1.append(temp_p1 / (temp_p1 + temp_p2))\n",
    "        EM_p2.append(temp_p2 / (temp_p1 + temp_p2))\n",
    "    \n",
    "    # find p1\n",
    "    p1 = 0\n",
    "\n",
    "    for i in range(n):\n",
    "        for j in range(m):\n",
    "            p1 += EM_p1[i] * X[i][j]\n",
    "\n",
    "    temp = 0\n",
    "\n",
    "    for i in range(n):\n",
    "        temp += m * EM_p1[i]\n",
    "\n",
    "    p1 = p1/temp\n",
    "\n",
    "    # find p2\n",
    "    p2 = 0\n",
    "\n",
    "    for i in range(n):\n",
    "        for j in range(m):\n",
    "            p2 += EM_p2[i] * X[i][j]\n",
    "\n",
    "    temp = 0\n",
    "\n",
    "    for i in range(n):\n",
    "        temp += m * EM_p2[i]\n",
    "\n",
    "    p2 = p2/temp\n",
    "\n",
    "    theta.append((p1, p2))\n",
    "\n",
    "theta"
   ]
  },
  {
   "cell_type": "code",
   "execution_count": null,
   "id": "b044ec44",
   "metadata": {},
   "outputs": [],
   "source": [
    "# TODO: fazer um gráfico (talvez)"
   ]
  },
  {
   "cell_type": "code",
   "execution_count": null,
   "id": "89a178f2",
   "metadata": {},
   "outputs": [],
   "source": []
  }
 ],
 "metadata": {
  "kernelspec": {
   "display_name": "Python 3 (ipykernel)",
   "language": "python",
   "name": "python3"
  },
  "language_info": {
   "codemirror_mode": {
    "name": "ipython",
    "version": 3
   },
   "file_extension": ".py",
   "mimetype": "text/x-python",
   "name": "python",
   "nbconvert_exporter": "python",
   "pygments_lexer": "ipython3",
   "version": "3.10.6"
  }
 },
 "nbformat": 4,
 "nbformat_minor": 5
}
